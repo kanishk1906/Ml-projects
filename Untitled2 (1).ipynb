{
  "nbformat": 4,
  "nbformat_minor": 0,
  "metadata": {
    "colab": {
      "provenance": []
    },
    "kernelspec": {
      "name": "python3",
      "display_name": "Python 3"
    },
    "language_info": {
      "name": "python"
    }
  },
  "cells": [
    {
      "cell_type": "code",
      "execution_count": null,
      "metadata": {
        "id": "GS8cC48qrvqA"
      },
      "outputs": [],
      "source": [
        "!pip install openai==0.28\n"
      ]
    },
    {
      "cell_type": "code",
      "source": [
        "import openai\n",
        "\n",
        "# Replace with your actual OpenAI API key\n",
        "openai.api_key = \"sk-gqdm_HE0ixVv_KfcJApL-olt5mZDTsQwkE5iAJrSPIT3BlbkFJqLi-HlDYy7syHmcjAg2A3Mc0cJy0fqGSUsY2Mu9fIA\"\n",
        "\n"
      ],
      "metadata": {
        "id": "DirhMw_ZsI11"
      },
      "execution_count": null,
      "outputs": []
    },
    {
      "cell_type": "code",
      "source": [
        "import requests\n",
        "\n",
        "def get_movie_data(movie_name):\n",
        "    api_key = '9673e5d6'  # Replace with your OMDB API key\n",
        "    url = f\"http://www.omdbapi.com/?t={movie_name}&apikey={api_key}\"\n",
        "\n",
        "    response = requests.get(url)\n",
        "    data = response.json()\n",
        "\n",
        "    if data['Response'] == 'True':\n",
        "        return {\n",
        "            'Title': data['Title'],\n",
        "            'Year': data['Year'],\n",
        "            'Genre': data['Genre'],\n",
        "            'Plot': data['Plot'],\n",
        "            'Director': data['Director'],\n",
        "            'Actors': data['Actors'],\n",
        "            'IMDB Rating': data['imdbRating']\n",
        "        }\n",
        "    else:\n",
        "        return None\n"
      ],
      "metadata": {
        "id": "pqGrmkU8thBk"
      },
      "execution_count": null,
      "outputs": []
    },
    {
      "cell_type": "code",
      "source": [
        "def movie_recommendation_from_diary(diary_entry):\n",
        "    prompt = f\"The user just wrote this diary entry: '{diary_entry}'. Based on the content of this entry, recommend a movie that fits the mood or theme.\"\n",
        "\n",
        "    response = openai.Completion.create(\n",
        "        engine=\"gpt-3.5-turbo\",\n",
        "        prompt=prompt,\n",
        "        max_tokens=100,\n",
        "        temperature=0.7\n",
        "    )\n",
        "\n",
        "    movie_name = response.choices[0].text.strip()\n",
        "\n",
        "    movie_data = get_movie_data(movie_name)\n",
        "\n",
        "    if movie_data:\n",
        "        return movie_data\n",
        "    else:\n",
        "        return \"Sorry, I couldn't find any movie matching the mood or theme.\"\n"
      ],
      "metadata": {
        "id": "kEZZUwobtnuJ"
      },
      "execution_count": null,
      "outputs": []
    },
    {
      "cell_type": "code",
      "source": [
        "\n",
        "diary_entry = input(\"Please enter your diary entry: \")\n",
        "\n",
        "recommendation = movie_recommendation_from_diary(diary_entry)\n",
        "\n",
        "if recommendation:\n",
        "    print(\"\\nMovie Recommendation:\")\n",
        "    print(f\"Title: {recommendation['Title']}\")\n",
        "    print(f\"Year: {recommendation['Year']}\")\n",
        "    print(f\"Genre: {recommendation['Genre']}\")\n",
        "    print(f\"Plot: {recommendation['Plot']}\")\n",
        "    print(f\"Director: {recommendation['Director']}\")\n",
        "    print(f\"Actors: {recommendation['Actors']}\")\n",
        "    print(f\"IMDB Rating: {recommendation['IMDB Rating']}\")\n",
        "else:\n",
        "    print(\"No movie found for this diary entry.\")\n"
      ],
      "metadata": {
        "id": "H8-ETzJxt9js"
      },
      "execution_count": null,
      "outputs": []
    }
  ]
}